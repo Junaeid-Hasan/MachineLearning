{
 "cells": [
  {
   "cell_type": "code",
   "execution_count": 3,
   "id": "471052d7-ddab-43af-872c-9482de621274",
   "metadata": {},
   "outputs": [],
   "source": [
    "import numpy as np\n",
    "np.random.seed(0)"
   ]
  },
  {
   "cell_type": "code",
   "execution_count": 4,
   "id": "4f558f9d-0a65-4503-8e9f-3e404c356dca",
   "metadata": {},
   "outputs": [
    {
     "name": "stdout",
     "output_type": "stream",
     "text": [
      "Epoch 0, Loss: 0.250005714943642\n",
      "Epoch 1000, Loss: 0.25000000025302666\n",
      "Epoch 2000, Loss: 0.2500000002524365\n",
      "Epoch 3000, Loss: 0.2500000002518475\n",
      "Epoch 4000, Loss: 0.25000000025125957\n",
      "Epoch 5000, Loss: 0.2500000002506728\n",
      "Epoch 6000, Loss: 0.2500000002500873\n",
      "Epoch 7000, Loss: 0.25000000024950275\n",
      "Epoch 8000, Loss: 0.2500000002489195\n",
      "Epoch 9000, Loss: 0.2500000002483373\n",
      "\n",
      "Testing the neural network:\n",
      "Input: [0 0], Predicted: 0.5000, Actual: 0\n",
      "Input: [0 1], Predicted: 0.5000, Actual: 1\n",
      "Input: [1 0], Predicted: 0.5000, Actual: 1\n",
      "Input: [1 1], Predicted: 0.5000, Actual: 0\n"
     ]
    }
   ],
   "source": [
    "class SimpleANN:\n",
    "    def __init__(self, input_size, hidden_size, output_size, learning_rate=0.1):\n",
    "        # Initialize weights and biases\n",
    "        self.W1 = np.random.randn(input_size, hidden_size) * 0.01\n",
    "        self.b1 = np.zeros((1, hidden_size))\n",
    "        self.W2 = np.random.randn(hidden_size, output_size) * 0.01\n",
    "        self.b2 = np.zeros((1, output_size))\n",
    "        self.learning_rate = learning_rate\n",
    "\n",
    "    def sigmoid(self, x):\n",
    "        return 1 / (1 + np.exp(-x))\n",
    "\n",
    "    def sigmoid_derivative(self, x):\n",
    "        return x * (1 - x)\n",
    "\n",
    "    def forward(self, X):\n",
    "        # Forward propagation\n",
    "        self.z1 = np.dot(X, self.W1) + self.b1\n",
    "        self.a1 = self.sigmoid(self.z1)\n",
    "        self.z2 = np.dot(self.a1, self.W2) + self.b2\n",
    "        self.a2 = self.sigmoid(self.z2)\n",
    "        return self.a2\n",
    "\n",
    "    def backward(self, X, y, output):\n",
    "        # Backward propagation\n",
    "        self.error = y - output\n",
    "        self.delta2 = self.error * self.sigmoid_derivative(output)\n",
    "        \n",
    "        self.error_hidden = np.dot(self.delta2, self.W2.T)\n",
    "        self.delta1 = self.error_hidden * self.sigmoid_derivative(self.a1)\n",
    "        \n",
    "        # Update weights and biases\n",
    "        self.W2 += self.learning_rate * np.dot(self.a1.T, self.delta2)\n",
    "        self.b2 += self.learning_rate * np.sum(self.delta2, axis=0, keepdims=True)\n",
    "        self.W1 += self.learning_rate * np.dot(X.T, self.delta1)\n",
    "        self.b1 += self.learning_rate * np.sum(self.delta1, axis=0, keepdims=True)\n",
    "\n",
    "    def train(self, X, y, epochs):\n",
    "        for _ in range(epochs):\n",
    "            output = self.forward(X)\n",
    "            self.backward(X, y, output)\n",
    "            \n",
    "            # Calculate and print loss (mean squared error)\n",
    "            loss = np.mean(np.square(y - output))\n",
    "            if _ % 1000 == 0:\n",
    "                print(f\"Epoch {_}, Loss: {loss}\")\n",
    "\n",
    "# Example usage with XOR problem\n",
    "if __name__ == \"__main__\":\n",
    "    # Training data for XOR\n",
    "    X = np.array([[0, 0],\n",
    "                  [0, 1],\n",
    "                  [1, 0],\n",
    "                  [1, 1]])\n",
    "    \n",
    "    y = np.array([[0],\n",
    "                  [1],\n",
    "                  [1],\n",
    "                  [0]])\n",
    "\n",
    "    # Create and train the neural network\n",
    "    nn = SimpleANN(input_size=2, hidden_size=4, output_size=1, learning_rate=0.1)\n",
    "    nn.train(X, y, epochs=10000)\n",
    "\n",
    "    # Test the neural network\n",
    "    print(\"\\nTesting the neural network:\")\n",
    "    for i in range(len(X)):\n",
    "        prediction = nn.forward(X[i].reshape(1, -1))\n",
    "        print(f\"Input: {X[i]}, Predicted: {prediction[0][0]:.4f}, Actual: {y[i][0]}\")"
   ]
  },
  {
   "cell_type": "code",
   "execution_count": null,
   "id": "d2cdca36-1f2f-4337-8bbd-064eca756dcd",
   "metadata": {},
   "outputs": [],
   "source": []
  }
 ],
 "metadata": {
  "kernelspec": {
   "display_name": "Python 3 (ipykernel)",
   "language": "python",
   "name": "python3"
  },
  "language_info": {
   "codemirror_mode": {
    "name": "ipython",
    "version": 3
   },
   "file_extension": ".py",
   "mimetype": "text/x-python",
   "name": "python",
   "nbconvert_exporter": "python",
   "pygments_lexer": "ipython3",
   "version": "3.12.7"
  }
 },
 "nbformat": 4,
 "nbformat_minor": 5
}
