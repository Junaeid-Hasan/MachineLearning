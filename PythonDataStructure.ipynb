{
 "cells": [
  {
   "cell_type": "markdown",
   "id": "529746d2-8ecd-40bc-b592-e932097f503d",
   "metadata": {},
   "source": [
    "Touple:"
   ]
  },
  {
   "cell_type": "code",
   "execution_count": 1,
   "id": "5b1be82a-7429-4257-9a2f-55a9bd5b31f5",
   "metadata": {},
   "outputs": [
    {
     "data": {
      "text/plain": [
       "(1, 2, 3, 4)"
      ]
     },
     "execution_count": 1,
     "metadata": {},
     "output_type": "execute_result"
    }
   ],
   "source": [
    "tup=(1,2,3,4)\n",
    "tup"
   ]
  },
  {
   "cell_type": "code",
   "execution_count": 2,
   "id": "6b4c9aa8-fe77-4c17-a6b5-dbfb4a052d8b",
   "metadata": {},
   "outputs": [
    {
     "data": {
      "text/plain": [
       "(1, 2, 3, 4)"
      ]
     },
     "execution_count": 2,
     "metadata": {},
     "output_type": "execute_result"
    }
   ],
   "source": [
    "tup=1,2,3,4\n",
    "tup"
   ]
  },
  {
   "cell_type": "code",
   "execution_count": 9,
   "id": "76da331f-55c0-434c-a082-a0b87ef29861",
   "metadata": {},
   "outputs": [
    {
     "data": {
      "text/plain": [
       "('string', [1, 2, 3])"
      ]
     },
     "execution_count": 9,
     "metadata": {},
     "output_type": "execute_result"
    }
   ],
   "source": [
    "tup=tuple(['string',[1,2,3]])\n",
    "tup"
   ]
  },
  {
   "cell_type": "code",
   "execution_count": 10,
   "id": "69d71337-dbb7-4c01-9822-075c70af7be4",
   "metadata": {},
   "outputs": [
    {
     "data": {
      "text/plain": [
       "[1, 2, 3]"
      ]
     },
     "execution_count": 10,
     "metadata": {},
     "output_type": "execute_result"
    }
   ],
   "source": [
    "tup[1]"
   ]
  },
  {
   "cell_type": "code",
   "execution_count": 11,
   "id": "9d1a7b90-8b1b-4cb7-aaed-e1d1f944178a",
   "metadata": {},
   "outputs": [
    {
     "data": {
      "text/plain": [
       "('string', [1, 2, 3, 4])"
      ]
     },
     "execution_count": 11,
     "metadata": {},
     "output_type": "execute_result"
    }
   ],
   "source": [
    "tup[1].append(4)\n",
    "tup"
   ]
  },
  {
   "cell_type": "code",
   "execution_count": 20,
   "id": "7ed4ab4f-47bb-48a8-9ff5-7bfe4a9fcb9b",
   "metadata": {},
   "outputs": [
    {
     "name": "stdout",
     "output_type": "stream",
     "text": [
      "a=1 , b=3, c=[4, 5]\n",
      "a=a , b=b, c=['c']\n",
      "a=7 , b=8, c=[9, 0]\n"
     ]
    }
   ],
   "source": [
    "seq=[(1,3,4,5),('a','b','c'),(7,8,9,0)]\n",
    "for a,b,*c in seq:\n",
    "    print(f\"a={a} , b={b}, c={c}\")"
   ]
  },
  {
   "cell_type": "code",
   "execution_count": 18,
   "id": "f43dbbee-55be-4732-9fad-54e66a593bdf",
   "metadata": {},
   "outputs": [],
   "source": [
    "values=1,2,3,4,5,6\n",
    "a,b,*rest=values"
   ]
  },
  {
   "cell_type": "code",
   "execution_count": 19,
   "id": "355e08f0-9cac-4642-b8fc-4e5ca2107a7e",
   "metadata": {},
   "outputs": [
    {
     "data": {
      "text/plain": [
       "[3, 4, 5, 6]"
      ]
     },
     "execution_count": 19,
     "metadata": {},
     "output_type": "execute_result"
    }
   ],
   "source": [
    "rest"
   ]
  },
  {
   "cell_type": "code",
   "execution_count": 21,
   "id": "25c4b8d9-970a-47f6-84ec-a92303d3671e",
   "metadata": {},
   "outputs": [],
   "source": [
    "gen=range(10)"
   ]
  },
  {
   "cell_type": "code",
   "execution_count": 22,
   "id": "50f574aa-beae-4397-b735-75adbe9fed29",
   "metadata": {},
   "outputs": [
    {
     "data": {
      "text/plain": [
       "range(0, 10)"
      ]
     },
     "execution_count": 22,
     "metadata": {},
     "output_type": "execute_result"
    }
   ],
   "source": [
    "gen"
   ]
  },
  {
   "cell_type": "code",
   "execution_count": 23,
   "id": "795ba66e-d61c-48a0-9227-603626c28420",
   "metadata": {},
   "outputs": [
    {
     "data": {
      "text/plain": [
       "[0, 1, 2, 3, 4, 5, 6, 7, 8, 9]"
      ]
     },
     "execution_count": 23,
     "metadata": {},
     "output_type": "execute_result"
    }
   ],
   "source": [
    "list(gen)"
   ]
  },
  {
   "cell_type": "code",
   "execution_count": 24,
   "id": "7d54e096-5375-4f4d-beca-f847407d7c64",
   "metadata": {},
   "outputs": [
    {
     "data": {
      "text/plain": [
       "(0, 1, 2, 3, 4, 5, 6, 7, 8, 9)"
      ]
     },
     "execution_count": 24,
     "metadata": {},
     "output_type": "execute_result"
    }
   ],
   "source": [
    "tuple(gen)"
   ]
  },
  {
   "cell_type": "code",
   "execution_count": 25,
   "id": "712d3c35-3ce7-4417-a7b3-b167d85a8283",
   "metadata": {},
   "outputs": [
    {
     "data": {
      "text/plain": [
       "{0, 1, 2, 3, 4, 5, 6, 7, 8, 9}"
      ]
     },
     "execution_count": 25,
     "metadata": {},
     "output_type": "execute_result"
    }
   ],
   "source": [
    "set(gen)"
   ]
  },
  {
   "cell_type": "code",
   "execution_count": 26,
   "id": "24082208-a818-4c51-ba01-9214ea59f3d0",
   "metadata": {},
   "outputs": [],
   "source": [
    "s=2,2,2,4,6,7,1,8,9"
   ]
  },
  {
   "cell_type": "code",
   "execution_count": 27,
   "id": "8a33449a-d2b4-45b7-b051-9b4e8779ecf7",
   "metadata": {},
   "outputs": [
    {
     "data": {
      "text/plain": [
       "(2, 2, 2, 4, 6, 7, 1, 8, 9)"
      ]
     },
     "execution_count": 27,
     "metadata": {},
     "output_type": "execute_result"
    }
   ],
   "source": [
    "s"
   ]
  },
  {
   "cell_type": "code",
   "execution_count": 28,
   "id": "c2349a72-fa3e-429c-9f3a-55946a2f8949",
   "metadata": {},
   "outputs": [
    {
     "data": {
      "text/plain": [
       "tuple"
      ]
     },
     "execution_count": 28,
     "metadata": {},
     "output_type": "execute_result"
    }
   ],
   "source": [
    "type(s)"
   ]
  },
  {
   "cell_type": "code",
   "execution_count": 29,
   "id": "b1fa8fa7-9a88-4c3b-85fc-1f0621d00c4b",
   "metadata": {},
   "outputs": [
    {
     "data": {
      "text/plain": [
       "{1, 2, 4, 6, 7, 8, 9}"
      ]
     },
     "execution_count": 29,
     "metadata": {},
     "output_type": "execute_result"
    }
   ],
   "source": [
    "set_=set(s)\n",
    "set_"
   ]
  },
  {
   "cell_type": "code",
   "execution_count": 30,
   "id": "9a7a1358-0926-4178-bbb7-2a72091dae35",
   "metadata": {},
   "outputs": [
    {
     "name": "stdout",
     "output_type": "stream",
     "text": [
      "1\n",
      "2\n",
      "4\n",
      "6\n",
      "7\n",
      "8\n",
      "9\n"
     ]
    }
   ],
   "source": [
    "for x in set_:\n",
    "    print(x)"
   ]
  },
  {
   "cell_type": "code",
   "execution_count": 32,
   "id": "42612d40-8284-4b21-8b80-6dc81bff157d",
   "metadata": {},
   "outputs": [],
   "source": [
    "import pandas as pd"
   ]
  },
  {
   "cell_type": "code",
   "execution_count": null,
   "id": "938f607f-8d4a-4a7c-b5c4-a3bd4ec487e6",
   "metadata": {},
   "outputs": [],
   "source": []
  }
 ],
 "metadata": {
  "kernelspec": {
   "display_name": "Python 3 (ipykernel)",
   "language": "python",
   "name": "python3"
  },
  "language_info": {
   "codemirror_mode": {
    "name": "ipython",
    "version": 3
   },
   "file_extension": ".py",
   "mimetype": "text/x-python",
   "name": "python",
   "nbconvert_exporter": "python",
   "pygments_lexer": "ipython3",
   "version": "3.12.7"
  }
 },
 "nbformat": 4,
 "nbformat_minor": 5
}
